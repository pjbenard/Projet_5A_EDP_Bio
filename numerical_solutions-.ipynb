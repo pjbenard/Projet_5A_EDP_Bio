{
 "cells": [
  {
   "cell_type": "code",
   "execution_count": null,
   "metadata": {},
   "outputs": [],
   "source": [
    "from lib import *"
   ]
  },
  {
   "cell_type": "code",
   "execution_count": null,
   "metadata": {},
   "outputs": [],
   "source": [
    "N = 500\n",
    "a, b = [0, 10]\n",
    "dt, T = 0.02, 15\n",
    "\n",
    "source_args = {'source_type': 'normal', 'source_mu': 6, 'source_std': 0.45}\n",
    "theta_args = {'theta_value': 4, 'theta_moving': False, 'theta_speed': -0.00025, \n",
    "              'theta_noise': False, 'theta_noise_type': 'normal', 'theta_noise_std': 0.5, \"accumulative\": False}\n",
    "s_args = {'s_value': 1, 's_noise': True, 's_noise_type': 'normal', 's_noise_std': 0.25}\n",
    "\n",
    "solver = model(N,a,b,dt,T)\n",
    "solver.solve(\"solve_implicit\", theta_args, s_args, source_args)"
   ]
  },
  {
   "cell_type": "code",
   "execution_count": null,
   "metadata": {},
   "outputs": [],
   "source": [
    "solver.plot_density(dynamic=False, log_plot=False, nb_images=6)\n",
    "solver.plot_params(pressure_selection=True)\n",
    "solver.plot_moments()"
   ]
  },
  {
   "cell_type": "code",
   "execution_count": null,
   "metadata": {},
   "outputs": [],
   "source": [
    "S = []\n",
    "RHO = []\n",
    "VAR = []\n",
    "\n",
    "for s in np.arange(0.1, 3, 0.1):\n",
    "    print(s)\n",
    "    s_args = {'s_value': s, 's_noise': False, 's_noise_type': 'normal', 's_noise_std': 0.5}\n",
    "    solver = model(N,a,b,dt,T)\n",
    "    solver.solve(\"solve_splitting\", theta_args, s_args, source_args)\n",
    "    S.append(solver.S[-1])\n",
    "    RHO.append(solver.RHO[-1])    \n",
    "    VAR.append(solver.VAR[-1])"
   ]
  },
  {
   "cell_type": "code",
   "execution_count": null,
   "metadata": {},
   "outputs": [],
   "source": [
    "options = {'shared_axes': False, 'toolbar': None}\n",
    "\n",
    "curves = []\n",
    "\n",
    "curves += [hv.Curve((S, VALUE), 'Pressure selection', val_name.capitalize()).opts(title=f'{val_name}') for VALUE, val_name in zip(\n",
    "    [VAR, RHO], ['Phenotype variance', 'Population size']\n",
    ")]\n",
    "\n",
    "hv.output(hv.Layout(curves).opts(width=900, **options))"
   ]
  }
 ],
 "metadata": {
  "kernelspec": {
   "display_name": "Python 3",
   "language": "python",
   "name": "python3"
  },
  "language_info": {
   "codemirror_mode": {
    "name": "ipython",
    "version": 3
   },
   "file_extension": ".py",
   "mimetype": "text/x-python",
   "name": "python",
   "nbconvert_exporter": "python",
   "pygments_lexer": "ipython3",
   "version": "3.8.5"
  }
 },
 "nbformat": 4,
 "nbformat_minor": 4
}
