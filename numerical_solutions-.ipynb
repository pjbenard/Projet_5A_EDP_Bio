{
 "cells": [
  {
   "cell_type": "code",
   "execution_count": null,
   "metadata": {},
   "outputs": [],
   "source": [
    "from lib import *"
   ]
  },
  {
   "cell_type": "code",
   "execution_count": null,
   "metadata": {},
   "outputs": [],
   "source": [
    "N = 500\n",
    "a, b = [0, 10]\n",
    "dt, T = 0.002, 50\n",
    "\n",
    "source_args = {'source_type': 'normal', 'source_mu': 6, 'source_std': 0.45}\n",
    "theta_args = {'theta_value': 6, 'theta_moving': False, 'theta_speed': -0.00025, \n",
    "              'theta_noise': True, 'theta_noise_type': 'normal', 'theta_noise_std': 0.5, \"accumulative\" :False}\n",
    "s_args = {'s_value': 1, 's_noise': False, 's_noise_type': 'normal', 's_noise_std': 0.025}\n",
    "\n",
    "solver = model(N,a,b,dt,T)\n",
    "solver.solve(\"solve_splitting\", theta_args, s_args, source_args)"
   ]
  },
  {
   "cell_type": "code",
   "execution_count": null,
   "metadata": {},
   "outputs": [],
   "source": [
    "solver.plot_density(dynamic=False, log_plot=False, nb_images=6)\n",
    "solver.plot_params()\n",
    "#solver.plot_moments()"
   ]
  },
  {
   "cell_type": "code",
   "execution_count": null,
   "metadata": {},
   "outputs": [],
   "source": []
  }
 ],
 "metadata": {
  "kernelspec": {
   "display_name": "Python 3",
   "language": "python",
   "name": "python3"
  },
  "language_info": {
   "codemirror_mode": {
    "name": "ipython",
    "version": 3
   },
   "file_extension": ".py",
   "mimetype": "text/x-python",
   "name": "python",
   "nbconvert_exporter": "python",
   "pygments_lexer": "ipython3",
   "version": "3.7.4"
  }
 },
 "nbformat": 4,
 "nbformat_minor": 4
}
