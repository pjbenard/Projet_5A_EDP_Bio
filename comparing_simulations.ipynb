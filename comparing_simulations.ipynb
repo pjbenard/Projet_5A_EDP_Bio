{
 "cells": [
  {
   "cell_type": "code",
   "execution_count": null,
   "metadata": {},
   "outputs": [],
   "source": [
    "from lib import *\n",
    "import scipy.integrate as ode\n",
    "from tqdm import tqdm"
   ]
  },
  {
   "cell_type": "code",
   "execution_count": null,
   "metadata": {},
   "outputs": [],
   "source": [
    "N = 100\n",
    "a, b = [0, 10]\n",
    "dt, T = 0.02, 180\n",
    "\n",
    "source_args = {'source_type': 'normal', 'source_mu': 6, 'source_std': 0.45}\n",
    "theta_args = {'theta_value': 4, 'theta_moving': False, 'theta_speed': 0.00, \n",
    "              'theta_noise': False, 'theta_noise_type': 'normal', 'theta_noise_std': 0.025,\"accumulative\":False}\n",
    "s_args = {'s_value': 1, 's_noise': True, 's_noise_type': 'normal', 's_noise_std': 0.25}\n",
    "\n",
    "solver = model(N,a,b,dt,T)\n",
    "solver.solve(\"solve_implicit\", theta_args, s_args, source_args)"
   ]
  },
  {
   "cell_type": "code",
   "execution_count": null,
   "metadata": {},
   "outputs": [],
   "source": [
    "solver.plot_2D(log_plot=False, nb_images=50)\n",
    "solver.plot_params(pressure_selection=True)\n",
    "#solver.plot_moments()"
   ]
  },
  {
   "cell_type": "code",
   "execution_count": null,
   "metadata": {},
   "outputs": [],
   "source": [
    "def trapezoid(f,t0,t1): # numerical integration\n",
    "    n = len(f)\n",
    "    return ((t1-t0)/n) * (f[0]/2 + f[-1]/2 + np.sum(f[1:-1]))"
   ]
  },
  {
   "cell_type": "markdown",
   "metadata": {},
   "source": [
    "#  Gaussian source"
   ]
  },
  {
   "cell_type": "code",
   "execution_count": null,
   "metadata": {},
   "outputs": [],
   "source": [
    "N = 200\n",
    "a, b = [0, 10]\n",
    "dt, T = 0.02, 180\n",
    "nbT = int(T/dt)\n",
    "\n",
    "source_args = {'source_type': 'normal', 'source_mu': 6, 'source_std': 0.45}\n",
    "theta_args = {'theta_value': 4, 'theta_moving': False, 'theta_speed': 0.00, \n",
    "              'theta_noise': False, 'theta_noise_type': 'normal', 'theta_noise_std': 0.025,\"accumulative\":False}\n",
    "s_args = {'s_value': 1, 's_noise': True, 's_noise_type': 'normal', 's_noise_std': 0.25}\n",
    "\n",
    "solver = model(N,a,b,dt,T)\n",
    "\n",
    "simulations = 30\n",
    "\n",
    "mu = np.zeros((nbT+1, simulations))\n",
    "var = np.zeros_like(mu)\n",
    "rho = np.zeros_like(mu)\n",
    "FE = np.zeros_like(mu)\n",
    "S = np.zeros_like(mu)\n",
    "\n",
    "for i in tqdm(range(simulations)):\n",
    "    solver.solve(\"solve_implicit\", theta_args, s_args, source_args, disable_tqdm=True)\n",
    "    mu[:,i] = solver.MU\n",
    "    var[:,i] = solver.VAR\n",
    "    rho[:,i] = solver.RHO\n",
    "    FE[:,i] = solver.S * (solver.MU - solver.THETA)**2\n",
    "    S[:, i] = solver.S"
   ]
  },
  {
   "cell_type": "code",
   "execution_count": null,
   "metadata": {},
   "outputs": [],
   "source": [
    "dtt = np.linspace(0,T,nbT+1)\n",
    "plt.figure(figsize=(26,5))\n",
    "plt.subplot(1,4,1)\n",
    "plt.title(\"Pressure selection\")\n",
    "plt.plot(dtt,np.mean(S,axis=-1), '-')\n",
    "# plt.plot(dtt,np.ones(len(dtt)) * S_bar, 'r-')\n",
    "#plt.plot(dtt,mu[:,-4:], '-')\n",
    "\n",
    "plt.subplot(1,4,2)\n",
    "plt.title(\"Var\")\n",
    "plt.plot(dtt,np.mean(var,axis=-1), '-')\n",
    "plt.subplot(1,4,3)\n",
    "plt.title(\"Rho\")\n",
    "plt.plot(dtt,np.mean(rho,axis=-1), '-')\n",
    "plt.subplot(1,4,4)\n",
    "plt.title(\"F\")\n",
    "plt.plot(dtt,np.mean(FE,axis = -1))\n",
    "plt.show()\n"
   ]
  },
  {
   "cell_type": "code",
   "execution_count": null,
   "metadata": {},
   "outputs": [],
   "source": [
    "N = 200\n",
    "a, b = [0, 10]\n",
    "dt, T = 0.02, 180\n",
    "nbT = int(T/dt)\n",
    "\n",
    "source_args = {'source_type': 'normal', 'source_mu': 5, 'source_std': 0.1}\n",
    "theta_args = {'theta_value': 4, 'theta_moving': False, 'theta_speed': 0.00, \n",
    "              'theta_noise': True, 'theta_noise_type': 'normal', 'theta_noise_std': 0.05, \"accumulative\": False}\n",
    "s_args = {'s_value': 1, 's_noise': False, 's_noise_type': 'normal', 's_noise_std': 0.01}\n",
    "\n",
    "solver = model(N,a,b,dt,T)\n",
    "solver.solve(\"solve_implicit\", theta_args, s_args, source_args, disable_tqdm=False)\n"
   ]
  },
  {
   "cell_type": "code",
   "execution_count": null,
   "metadata": {},
   "outputs": [],
   "source": [
    "t0, t1 = 100, 170\n",
    "n_t0, n_t1 = int(t0/dt), int(t1/dt)\n",
    "\n",
    "MU_bar = (1/(t1-t0)) * ode.trapz(solver.MU[n_t0:n_t1])*solver.dt\n",
    "VAR_bar = (1/(t1-t0)) * ode.trapz(solver.VAR[n_t0:n_t1])*solver.dt\n",
    "RHO_bar = (1/(t1-t0)) * ode.trapz(solver.RHO[n_t0:n_t1])*solver.dt\n",
    "FE_bar = (1/(t1-t0)) * ode.trapz(solver.S[n_t0:n_t1]*(solver.MU[n_t0:n_t1]-solver.THETA[n_t0:n_t1])**2)*solver.dt\n",
    "S_bar = (1/(t1-t0)) * ode.trapz(solver.S[n_t0:n_t1])*solver.dt"
   ]
  },
  {
   "cell_type": "code",
   "execution_count": null,
   "metadata": {},
   "outputs": [],
   "source": [
    "dtt = np.linspace(0,T,nbT+1)\n",
    "plt.figure(figsize=(16,8))\n",
    "plt.subplot(2,2,1)\n",
    "plt.title(\"Phenotypic mean\")\n",
    "plt.plot(dtt,np.mean(mu, axis=-1), '-')\n",
    "plt.plot(dtt,np.ones(len(dtt)) * MU_bar, 'r-')\n",
    "\n",
    "plt.subplot(2,2,2)\n",
    "plt.title(\"Variance\")\n",
    "plt.plot(dtt,np.mean(var,axis=-1), '-')\n",
    "plt.plot(dtt,np.ones(len(dtt)) * VAR_bar, 'r-')\n",
    "\n",
    "plt.subplot(2,2,3)\n",
    "plt.title(\"Population size\")\n",
    "plt.plot(dtt,np.mean(rho,axis=-1), '-')\n",
    "plt.plot(dtt,np.ones(len(dtt)) * RHO_bar, 'r-')\n",
    "\n",
    "plt.subplot(2,2,4)\n",
    "plt.title(\"Evolutionary load\")\n",
    "plt.plot(dtt,np.mean(FE,axis = -1))\n",
    "plt.plot(dtt,np.ones(len(dtt)) * FE_bar, 'r-')\n",
    "\n",
    "plt.show()"
   ]
  },
  {
   "cell_type": "markdown",
   "metadata": {},
   "source": [
    "# Uniform source"
   ]
  },
  {
   "cell_type": "code",
   "execution_count": null,
   "metadata": {},
   "outputs": [],
   "source": [
    "N = 200\n",
    "a, b = [0, 10]\n",
    "dt, T = 0.02, 180\n",
    "nbT = int(T/dt)\n",
    "\n",
    "source_args = {'source_type': 'normal', 'source_mu': 6, 'source_std': 0.45}\n",
    "theta_args = {'theta_value': 4, 'theta_moving': False, 'theta_speed': 0.00, \n",
    "              'theta_noise': False, 'theta_noise_type': 'normal', 'theta_noise_std': 0.025,\"accumulative\":False}\n",
    "s_args = {'s_value': 1, 's_noise': True, 's_noise_type': 'normal', 's_noise_std': 0.25}\n",
    "\n",
    "solver = model(N,a,b,dt,T)\n",
    "simulations = 30\n",
    "mu = np.zeros((nbT+1, simulations))\n",
    "var = np.copy(mu)\n",
    "rho = np.copy(mu)\n",
    "FE = np.copy(mu)\n",
    "S = np.copy(mu)\n",
    "for i in tqdm(range(simulations)):\n",
    "    solver.solve(\"solve_implicit\", theta_args, s_args, source_args, disable_tqdm=True)\n",
    "    mu[:,i] = solver.MU\n",
    "    var[:,i] = solver.VAR\n",
    "    rho[:,i] = solver.RHO\n",
    "    FE[:,i] = solver.S * (solver.MU - solver.THETA)**2\n",
    "    S[:, i] = solver.S"
   ]
  },
  {
   "cell_type": "code",
   "execution_count": null,
   "metadata": {},
   "outputs": [],
   "source": [
    "dtt = np.linspace(0,T,nbT+1)\n",
    "plt.figure(figsize=(26,5))\n",
    "plt.subplot(1,4,1)\n",
    "plt.title(\"Pressure selection\")\n",
    "plt.plot(dtt,np.mean(S,axis=-1), '-')\n",
    "# plt.plot(dtt,np.ones(len(dtt)) * S_bar, 'r-')\n",
    "#plt.plot(dtt,mu[:,-4:], '-')\n",
    "\n",
    "plt.subplot(1,4,2)\n",
    "plt.title(\"Var\")\n",
    "plt.plot(dtt,np.mean(var,axis=-1), '-')\n",
    "plt.subplot(1,4,3)\n",
    "plt.title(\"Rho\")\n",
    "plt.plot(dtt,np.mean(rho,axis=-1), '-')\n",
    "plt.subplot(1,4,4)\n",
    "plt.title(\"F\")\n",
    "plt.plot(dtt,np.mean(FE,axis = -1))\n",
    "plt.show()"
   ]
  },
  {
   "cell_type": "code",
   "execution_count": null,
   "metadata": {},
   "outputs": [],
   "source": [
    "N = 200\n",
    "a, b = [0, 10]\n",
    "dt, T = 0.02, 180\n",
    "nbT = int(T/dt)\n",
    "\n",
    "source_args = {'source_type': 'normal', 'source_mu': 6, 'source_std': 0.45}\n",
    "theta_args = {'theta_value': 4, 'theta_moving': False, 'theta_speed': 0.00, \n",
    "              'theta_noise': False, 'theta_noise_type': 'normal', 'theta_noise_std': 0.025,\"accumulative\":False}\n",
    "s_args = {'s_value': 1, 's_noise': True, 's_noise_type': 'normal', 's_noise_std': 0.25}\n",
    "\n",
    "\n",
    "solver = model(N,a,b,dt,T)\n",
    "solver.solve(\"solve_implicit\", theta_args, s_args, source_args)\n"
   ]
  },
  {
   "cell_type": "code",
   "execution_count": null,
   "metadata": {},
   "outputs": [],
   "source": [
    "t0 = 100\n",
    "t1 = 180\n",
    "n_t0 = int(t0/dt)\n",
    "n_t1 = int(t1/dt)\n",
    "MU_bar = (1/(t1-t0)) * ode.trapz(solver.MU[n_t0:n_t1])*solver.dt\n",
    "VAR_bar = (1/(t1-t0)) * ode.trapz(solver.VAR[n_t0:n_t1])*solver.dt\n",
    "RHO_bar = (1/(t1-t0)) * ode.trapz(solver.RHO[n_t0:n_t1])*solver.dt\n",
    "FE_bar = (1/(t1-t0)) * ode.trapz(solver.S[n_t0:n_t1]*(solver.MU[n_t0:n_t1]-solver.THETA[n_t0:n_t1])**2)*solver.dt\n",
    "S_bar = (1/(t1-t0)) * ode.trapz(solver.S[n_t0:n_t1])*solver.dt"
   ]
  },
  {
   "cell_type": "code",
   "execution_count": null,
   "metadata": {},
   "outputs": [],
   "source": [
    "dtt = np.linspace(0,T,nbT+1)\n",
    "plt.figure(figsize=(16,8))\n",
    "plt.subplot(2,2,1)\n",
    "plt.title(\"Phenotypic mean\")\n",
    "plt.plot(dtt,np.mean(mu, axis=-1), '-')\n",
    "plt.plot(dtt,np.ones(len(dtt)) * MU_bar, 'r-')\n",
    "# plt.ylim(0.75,1.25)\n",
    "\n",
    "plt.subplot(2,2,2)\n",
    "plt.title(\"Variance\")\n",
    "plt.plot(dtt,np.mean(var,axis=-1), '-')\n",
    "plt.plot(dtt,np.ones(len(dtt)) * VAR_bar, 'r-')\n",
    "# plt.ylim(0,1)\n",
    "\n",
    "plt.subplot(2,2,3)\n",
    "plt.title(\"Population size\")\n",
    "plt.plot(dtt,np.mean(rho,axis=-1), '-')\n",
    "plt.plot(dtt,np.ones(len(dtt)) * RHO_bar, 'r-')\n",
    "# plt.ylim(0,1)\n",
    "\n",
    "plt.subplot(2,2,4)\n",
    "plt.title(\"Evolutionary load\")\n",
    "plt.plot(dtt,np.mean(FE,axis = -1))\n",
    "plt.plot(dtt,np.ones(len(dtt)) * FE_bar, 'r-')\n",
    "# plt.ylim(0,0.01)\n",
    "\n",
    "plt.show()\n"
   ]
  },
  {
   "cell_type": "markdown",
   "metadata": {},
   "source": [
    "# oscillations as a function of number of realisations"
   ]
  },
  {
   "cell_type": "code",
   "execution_count": null,
   "metadata": {},
   "outputs": [],
   "source": [
    "bfff = False\n",
    "if bfff:   \n",
    "    sims = np.arange(1,11)*20\n",
    "    N = 200\n",
    "    a, b = [0, 10]\n",
    "    dt, T = 0.02, 100\n",
    "    nbT = int(T/dt)\n",
    "\n",
    "    source_args = {'source_type': 'uniform', 'source_mu': 5, 'source_std': 0.1}\n",
    "    theta_args = {'theta_value': 4.5, 'theta_moving': False, 'theta_speed': 0.00, \n",
    "                  'theta_noise': True, 'theta_noise_type': 'normal', 'theta_noise_std': 0.05, \"accumulative\" : False}\n",
    "    s_args = {'s_value': 1, 's_noise': False, 's_noise_type': 'normal', 's_noise_std': 0.01}\n",
    "\n",
    "    solver = model(N,a,b,dt,T)\n",
    "    mu_sims = np.zeros((nbT+1, len(sims)))\n",
    "    var_sims = np.copy(mu_sims)\n",
    "    rho_sims = np.copy(mu_sims)\n",
    "    FE_sims = np.copy(mu_sims)\n",
    "    for j,s in enumerate(sims):\n",
    "        mu = np.zeros((nbT+1, s))\n",
    "        var = np.copy(mu)\n",
    "        rho = np.copy(mu)\n",
    "        FE = np.copy(mu)\n",
    "        for i in tqdm(range(s)):\n",
    "\n",
    "            solver.solve(\"solve_implicit\", theta_args, s_args, source_args,show_tqdm = False)\n",
    "            mu[:,i] = solver.MU\n",
    "            var[:,i] = solver.VAR\n",
    "            rho[:,i] = solver.RHO\n",
    "            FE[:,i] = solver.S*(solver.MU - solver.THETA)**2\n",
    "\n",
    "        mu_sims[:,j] = np.mean(mu, axis = -1)\n",
    "        var_sims[:,j] = np.mean(var, axis = -1)\n",
    "        rho_sims[:,j] = np.mean(rho, axis = -1)\n",
    "        FE_sims[:,j] = np.mean(FE,axis = -1)"
   ]
  },
  {
   "cell_type": "code",
   "execution_count": null,
   "metadata": {},
   "outputs": [],
   "source": [
    "import pandas as pd"
   ]
  },
  {
   "cell_type": "code",
   "execution_count": null,
   "metadata": {},
   "outputs": [],
   "source": [
    "#pd.DataFrame(mu_sims).to_pickle(\"data/mu.pkl\")\n",
    "#pd.DataFrame(var_sims).to_pickle(\"data/var.pkl\")\n",
    "#pd.DataFrame(rho_sims).to_pickle(\"data/rho.pkl\")\n",
    "#pd.DataFrame(FE_sims).to_pickle(\"data/FE.pkl\")"
   ]
  },
  {
   "cell_type": "code",
   "execution_count": null,
   "metadata": {},
   "outputs": [],
   "source": [
    "FE = pd.read_pickle(\"data/FE.pkl\")\n",
    "sims = np.arange(1,11)*20\n"
   ]
  },
  {
   "cell_type": "code",
   "execution_count": null,
   "metadata": {},
   "outputs": [],
   "source": [
    "dtt = np.linspace(0,T,nbT+1)\n",
    "plt.figure(figsize = (14,10))\n",
    "for i in range(len(FE.columns)):\n",
    "    plt.plot(dtt, FE[i].values, label = str(sims[i]))\n",
    "plt.legend()\n",
    "plt.xlim(0.1, 100)\n",
    "plt.ylim(-0.0025, 0.008)\n",
    "plt.title(\"Fardeau evolutif en fonction de nombre de realisations\")\n",
    "plt.plot(dtt, np.ones(len(dtt))*FE_bar, label =  'mean')\n",
    "plt.show()"
   ]
  }
 ],
 "metadata": {
  "kernelspec": {
   "display_name": "Python 3",
   "language": "python",
   "name": "python3"
  },
  "language_info": {
   "codemirror_mode": {
    "name": "ipython",
    "version": 3
   },
   "file_extension": ".py",
   "mimetype": "text/x-python",
   "name": "python",
   "nbconvert_exporter": "python",
   "pygments_lexer": "ipython3",
   "version": "3.8.5"
  }
 },
 "nbformat": 4,
 "nbformat_minor": 4
}
