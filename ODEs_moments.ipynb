{
 "cells": [
  {
   "cell_type": "code",
   "execution_count": null,
   "metadata": {},
   "outputs": [],
   "source": [
    "import scipy.integrate as ode\n",
    "import numpy as np\n",
    "import matplotlib.pyplot as plt"
   ]
  },
  {
   "cell_type": "code",
   "execution_count": null,
   "metadata": {},
   "outputs": [],
   "source": [
    "s = 1\n",
    "sig = 0.4\n",
    "\n",
    "def df_dt(t, f):\n",
    "    return 2 * s - 2 * sig * f**2\n",
    "\n",
    "f0 = 2\n",
    "d = ode.solve_ivp(df_dt,[0,10],[4])"
   ]
  },
  {
   "cell_type": "markdown",
   "metadata": {},
   "source": [
    "We suppose the solution writes as:\n",
    "$$\n",
    "N(t,z) = \\rho(t)\\frac{\\sqrt{f(t)}}{\\sqrt{2\\pi}} \\exp{(-\\frac{f(t)}{2}(z-\\mu(t))^2)}\n",
    "$$"
   ]
  },
  {
   "cell_type": "markdown",
   "metadata": {},
   "source": [
    "We have the following system of ODEs "
   ]
  },
  {
   "cell_type": "markdown",
   "metadata": {},
   "source": [
    "$$\n",
    "\\begin{cases}\n",
    "f^{\\prime}(t) = 2 s(t) - 2 \\sigma f(t)^2 \\\\\n",
    "\\mu'(t) = 2 \\frac{s(t)}{f(t)} \\Big( \\theta(t) - \\mu(t) \\Big) \\\\\n",
    "\\rho^{\\prime}(t) = \\rho(t) \\Big[ s(t) v(t) - s(t) \\Big( \\theta(t)- \\mu(t) \\Big)^2 + r_{max} - \\kappa \\rho(t) \\Big]\n",
    "\\end{cases}\n",
    "$$"
   ]
  },
  {
   "cell_type": "code",
   "execution_count": null,
   "metadata": {},
   "outputs": [],
   "source": [
    "N = 200\n",
    "a, b = [0, 10]\n",
    "dz = (b - a) / N\n",
    "Z = np.linspace(a, b, N)\n",
    "theta = 4.5\n",
    "s = 1\n",
    "sigma = 0.25\n",
    "kappa = 1\n",
    "r_max = 1\n",
    "noise_std = 0.05\n"
   ]
  },
  {
   "cell_type": "code",
   "execution_count": null,
   "metadata": {},
   "outputs": [],
   "source": [
    "def mean(Z, U):\n",
    "    return np.sum(U * Z, axis=-1) / np.sum(U, axis=-1)\n",
    "\n",
    "def var(Z, U):\n",
    "    mu = mean(Z, U)\n",
    "    return np.sum(U * Z**2, axis=-1) / np.sum(U, axis=-1) - mu**2 \n",
    "\n",
    "def source_normal(Z, mu=5, sigma=0.5):    \n",
    "    return (.5 / (2 * np.pi * sigma**2)**.5) * np.exp(-0.5 * ((Z - mu)**2) / sigma**2)"
   ]
  },
  {
   "cell_type": "code",
   "execution_count": null,
   "metadata": {},
   "outputs": [],
   "source": [
    "N_0 = source_normal(Z, sigma=sigma)\n",
    "f_0 = 1 / var(Z, N_0)\n",
    "mu_0 = mean(Z, N_0)\n",
    "rho_0 = ode.trapz(N_0)\n",
    "T_start = 0\n",
    "T_end = 20\n",
    "dt = 0.02\n",
    "NbT = int(T_end / dt)\n",
    "dts = np.linspace(T_start, T_end, NbT)"
   ]
  },
  {
   "cell_type": "code",
   "execution_count": null,
   "metadata": {},
   "outputs": [],
   "source": [
    "# U = [f,mu,rho]\n",
    "\n",
    "def eval_fun(t,u):\n",
    "    theta = np.random.normal(0,0.05)\n",
    "    f, mu, rho = u\n",
    "    eval_f = 2 * (s - sigma * f**2)\n",
    "    eval_mu = 2 * (s / f) * (theta - mu)\n",
    "    \n",
    "    tmp_rho = (s / f) - s * (theta - mu)**2 + r_max - kappa * rho\n",
    "    eval_rho = rho * tmp_rho\n",
    "    \n",
    "    return [eval_f, eval_mu, eval_rho]\n",
    "\n",
    "solver = ode.solve_ivp(eval_fun, [T_start, T_end], [f_0, mu_0, rho_0], t_eval=dts)"
   ]
  },
  {
   "cell_type": "code",
   "execution_count": null,
   "metadata": {},
   "outputs": [],
   "source": [
    "# f = solver.y[0]\n",
    "# mu = solver.y[1]\n",
    "# rho = solver.y[2]\n",
    "f, mu, rho = solver.y\n",
    "\n",
    "N = rho[-1] * (np.sqrt(f[-1]) / (np.sqrt(2 * np.pi))) * np.exp(- (f[-1] / 2) * (Z - mu[-1])**2)\n"
   ]
  },
  {
   "cell_type": "code",
   "execution_count": null,
   "metadata": {},
   "outputs": [],
   "source": [
    "plt.plot(f)"
   ]
  },
  {
   "cell_type": "code",
   "execution_count": null,
   "metadata": {},
   "outputs": [],
   "source": [
    "plt.figure(figsize = (14,8))\n",
    "plt.plot(Z,N_0)\n",
    "plt.plot(Z,N)\n",
    "plt.show()"
   ]
  },
  {
   "cell_type": "code",
   "execution_count": null,
   "metadata": {},
   "outputs": [],
   "source": []
  }
 ],
 "metadata": {
  "kernelspec": {
   "display_name": "Python 3",
   "language": "python",
   "name": "python3"
  },
  "language_info": {
   "codemirror_mode": {
    "name": "ipython",
    "version": 3
   },
   "file_extension": ".py",
   "mimetype": "text/x-python",
   "name": "python",
   "nbconvert_exporter": "python",
   "pygments_lexer": "ipython3",
   "version": "3.8.5"
  }
 },
 "nbformat": 4,
 "nbformat_minor": 4
}
