{
 "cells": [
  {
   "cell_type": "code",
   "execution_count": null,
   "metadata": {},
   "outputs": [],
   "source": [
    "from math import pi\n",
    "\n",
    "import numpy as np\n",
    "import numpy.linalg as npl\n",
    "\n",
    "import scipy as sp\n",
    "import scipy.linalg as spl\n",
    "import scipy.sparse as sps\n",
    "import scipy.sparse.linalg as sspl\n",
    "\n",
    "import matplotlib.pyplot as plt\n",
    "\n",
    "import holoviews as hv\n",
    "import param\n",
    "import panel as pn\n",
    "\n",
    "hv.extension('bokeh')\n",
    "import bokeh.plotting as bkplt\n",
    "\n",
    "from tqdm import tqdm"
   ]
  },
  {
   "cell_type": "code",
   "execution_count": null,
   "metadata": {},
   "outputs": [],
   "source": [
    "kappa = 1\n",
    "s = 1\n",
    "r_max = 1\n",
    "sigma = 0.5\n",
    "theta = 4.5\n",
    "N = 100\n",
    "a = 0\n",
    "b = 10"
   ]
  },
  {
   "cell_type": "code",
   "execution_count": null,
   "metadata": {},
   "outputs": [],
   "source": [
    "def A(dz, N):\n",
    "    N = N - 2\n",
    "    tmp = np.ones((N - 1))\n",
    "    diag = -2 * np.ones(N)\n",
    "    diag[0] /= 2\n",
    "    diag[-1] /= 2\n",
    "    return sps.diags((tmp, diag, tmp),(-1, 0, 1)) * sigma**2 / (dz**2)\n",
    "\n",
    "def source(Z, mu=5, sigma=sigma):\n",
    "    return (.5 / (2 * pi * sigma**2)**.5) * np.exp(-0.5 * ((Z - mu)**2) / sigma**2)\n",
    "\n",
    "def get_r(Z,rmax,s,theta):\n",
    "    return rmax - s * (Z - theta)**2\n",
    "\n",
    "def get_rho(U, dz=None):\n",
    "    if dz is None:\n",
    "        dz = (b - a) / N\n",
    "    \n",
    "    return dz * ((U[..., 0] + U[..., -1]) / 2 + np.sum(U[..., 1:-1], axis=-1))\n",
    "#     return dz*(U[0]/2 + U[-1]/2 + np.sum(U[1:-1]))\n",
    "\n",
    "def solve_explicit(A, U, Z, rho, dz, dt, theta):\n",
    "    r = get_r(Z, r_max, s, theta)\n",
    "    tmp1 = sps.eye(A.shape[0])\n",
    "    tmp2 = dt * A\n",
    "    tmp3 = (dt * (r - kappa * rho))\n",
    "    U_next = (tmp1 + tmp2).dot(U) + (U * tmp3)\n",
    "    return U_next\n",
    "\n",
    "def solve_implicit(A, U, Z, rho, dz, dt, theta):\n",
    "    r = get_r(Z, r_max, s, theta)\n",
    "    FU = F(U, r, rho)\n",
    "    \n",
    "    lhs = (np.eye(A.shape[0]) - dt * A)\n",
    "    rhs = U + dt * FU\n",
    "    return sspl.cg(lhs, rhs)[0]\n",
    "\n",
    "def F(U, r, rho):\n",
    "    return U * (r - kappa * rho)\n",
    "\n",
    "def solve_splitting(A, U, Z, rho, dz, dt, theta):\n",
    "    tempU1 = sspl.cg(np.eye(A.shape[0]) - dt / 2 * A, U)[0]\n",
    "    \n",
    "    r = get_r(Z, r_max, s, theta)\n",
    "    \n",
    "    tempU2 = tempU1 + dt * F(tempU1, r, rho)\n",
    "    return sspl.cg(np.eye(A.shape[0]) - dt / 2 * A, tempU2)[0]"
   ]
  },
  {
   "cell_type": "code",
   "execution_count": null,
   "metadata": {},
   "outputs": [],
   "source": [
    "def mean(Z, U):\n",
    "    return np.sum(U * Z, axis=-1) / np.sum(U, axis=-1)\n",
    "\n",
    "def var(Z, U):\n",
    "    mu = mean(Z, U)\n",
    "    return np.sum(U * Z**2, axis=-1) / np.sum(U, axis=-1) - mu**2 "
   ]
  },
  {
   "cell_type": "code",
   "execution_count": null,
   "metadata": {},
   "outputs": [],
   "source": [
    "def solve(solver, dt, T, moving_theta=False, noise_theta=False, **theta_args):\n",
    "    dz = (b - a) / N\n",
    "    nbT = int(T / dt)\n",
    "    \n",
    "    A_mat = A(dz, N)\n",
    "    \n",
    "    Z = np.linspace(a, b, N)\n",
    "    U = np.empty(N)\n",
    "    \n",
    "    # Initialisation of U_0\n",
    "    U[1:-1] = np.copy(source(Z[1:-1]))\n",
    "    U[0] = U[1]\n",
    "    U[-1] = U[-2]\n",
    "    \n",
    "    # Arrays that saves the state of the system through time\n",
    "    Us = np.empty((nbT + 1, N))\n",
    "    RHO = np.empty(nbT + 1)\n",
    "    \n",
    "    THETA = np.ones(nbT + 1) * theta_args['theta']\n",
    "    \n",
    "    if moving_theta:\n",
    "        MOVING = np.arange(nbT + 1) * theta_args['speed']\n",
    "        THETA += MOVING\n",
    "    \n",
    "    if noise_theta:\n",
    "        NOISE = np.random.normal(loc=0., scale=theta_args['std_noise'], size=nbT + 1)\n",
    "        THETA += NOISE\n",
    "    \n",
    "    for i in tqdm(range(0, nbT + 1)):\n",
    "        rho = get_rho(U, dz)\n",
    "        \n",
    "        Us[i] = np.copy(U)\n",
    "        \n",
    "        U[1:-1] = solver(A_mat, U[1:-1],  Z[1:-1], rho, dz, dt, THETA[i])\n",
    "        U[0] = U[1]\n",
    "        U[-1] = U[-2]\n",
    "        \n",
    "    return Z, np.array(Us), THETA"
   ]
  },
  {
   "cell_type": "code",
   "execution_count": null,
   "metadata": {},
   "outputs": [],
   "source": [
    "def plot_2D(Us, dt, T, dynamic=True, nb_images=50):\n",
    "    Z = np.linspace(a, b, N)\n",
    "    time_step = Us.shape[0] // nb_images\n",
    "    \n",
    "    curve_dict = {round(dt * i, ndigits=1): hv.Curve((Z, Us[i])) for i in range(0, Us.shape[0], time_step)}\n",
    "    \n",
    "    if dynamic:\n",
    "#         curve_dict = {i: hv.Curve((Z, Us[i])).opts(title=f'Approximated solution at t = {dt * i:.1f}') for i in range(0, Us.shape[0], time_step)}\n",
    "        plot = hv.HoloMap(curve_dict, kdims='Time')\n",
    "    \n",
    "    else:\n",
    "        plot = hv.NdOverlay(curve_dict, kdims='Time').opts(legend_position='right')\n",
    "        \n",
    "    return hv.output(plot.opts(width=600, toolbar=None))\n",
    "    \n",
    "def plot_params(Z, Us, THETA):\n",
    "    RHO = get_rho(Us)\n",
    "    MEAN = mean(Z, Us)\n",
    "    VAR = var(Z, Us)\n",
    "    \n",
    "    options = {'shared_axes': False, 'toolbar': None}\n",
    "        \n",
    "    curves = []\n",
    "    \n",
    "    curves += [hv.NdOverlay({theta_name: hv.Curve(VALUE, 'Iteration', 'Theta').opts(alpha=alpha) for VALUE, theta_name, alpha in zip(\n",
    "        [MEAN, THETA], ['Current', 'Optimal'], [1., .5]\n",
    "    )}, kdims='Thetas').opts(title='Evolution of theta (mean)')]\n",
    "    \n",
    "    curves += [hv.Curve(VALUE, 'Iteration', val_name.capitalize()).opts(title=f'Evolution of {val_name}') for VALUE, val_name in zip(\n",
    "        [VAR, RHO], ['variance', 'population']\n",
    "    )]\n",
    "    \n",
    "    \n",
    "    return hv.output(hv.Layout(curves).opts(width=900, **options))"
   ]
  },
  {
   "cell_type": "markdown",
   "metadata": {},
   "source": [
    "## Explicit"
   ]
  },
  {
   "cell_type": "code",
   "execution_count": null,
   "metadata": {},
   "outputs": [],
   "source": [
    "N = 100\n",
    "a, b = [0, 10]\n",
    "dt, T = 0.002, 5\n",
    "\n",
    "theta_args = {'theta': 4.5, 'speed': 0.001, 'std_noise': 0.05}\n",
    "Z, Us, THETA = solve(solve_explicit, dt, T, moving_theta=False, noise_theta=False, **theta_args)\n",
    "\n",
    "plot_2D(Us, dt, T, dynamic=True, nb_images=50)\n",
    "plot_params(Z, Us, THETA)"
   ]
  },
  {
   "cell_type": "markdown",
   "metadata": {},
   "source": [
    "## Implicit"
   ]
  },
  {
   "cell_type": "code",
   "execution_count": null,
   "metadata": {},
   "outputs": [],
   "source": [
    "N = 100\n",
    "a, b = [0, 10]\n",
    "dt, T = 0.02, 30\n",
    "\n",
    "theta_args = {'theta': 4.5, 'speed': 0.001, 'std_noise': 0.5}\n",
    "Z, Us, THETA = solve(solve_implicit, dt, T, moving_theta=False, noise_theta=True, **theta_args)\n",
    "\n",
    "plot_2D(Us, dt, T, dynamic=False, nb_images=10)\n",
    "plot_params(Z, Us, THETA)"
   ]
  },
  {
   "cell_type": "markdown",
   "metadata": {},
   "source": [
    "## Splitting"
   ]
  },
  {
   "cell_type": "code",
   "execution_count": null,
   "metadata": {},
   "outputs": [],
   "source": [
    "N = 150\n",
    "a, b = [-5, 10]\n",
    "dt, T = 0.01, 20\n",
    "\n",
    "theta_args = {'theta': 4.5, 'speed': -0.002, 'std_noise': 0.2}\n",
    "Z, Us, THETA = solve(solve_splitting, dt, T, moving_theta=True, noise_theta=False, **theta_args)\n",
    "\n",
    "plot_2D(Us, dt, T)\n",
    "plot_params(Z, Us, THETA)"
   ]
  },
  {
   "cell_type": "code",
   "execution_count": null,
   "metadata": {},
   "outputs": [],
   "source": []
  }
 ],
 "metadata": {
  "kernelspec": {
   "display_name": "Python 3",
   "language": "python",
   "name": "python3"
  },
  "language_info": {
   "codemirror_mode": {
    "name": "ipython",
    "version": 3
   },
   "file_extension": ".py",
   "mimetype": "text/x-python",
   "name": "python",
   "nbconvert_exporter": "python",
   "pygments_lexer": "ipython3",
   "version": "3.7.8"
  }
 },
 "nbformat": 4,
 "nbformat_minor": 4
}
